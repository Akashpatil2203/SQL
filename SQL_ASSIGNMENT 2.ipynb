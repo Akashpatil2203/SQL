{
 "cells": [
  {
   "cell_type": "code",
   "execution_count": 9,
   "id": "a210c2e4",
   "metadata": {},
   "outputs": [],
   "source": [
    "import sqlite3\n",
    "import re"
   ]
  },
  {
   "cell_type": "code",
   "execution_count": 10,
   "id": "ed8467e6",
   "metadata": {},
   "outputs": [],
   "source": [
    "# Connect to the database (creates the database file if it doesn't exist)\n",
    "conn = sqlite3.connect('email_counts.db')\n",
    "cur = conn.cursor()"
   ]
  },
  {
   "cell_type": "code",
   "execution_count": 11,
   "id": "a6c1c6cb",
   "metadata": {},
   "outputs": [
    {
     "data": {
      "text/plain": [
       "<sqlite3.Cursor at 0x20e1e5a89c0>"
      ]
     },
     "execution_count": 11,
     "metadata": {},
     "output_type": "execute_result"
    }
   ],
   "source": [
    "# Drop the table if it exists (to clear data before each run)\n",
    "cur.execute('DROP TABLE IF EXISTS Counts')"
   ]
  },
  {
   "cell_type": "code",
   "execution_count": 12,
   "id": "47087d94",
   "metadata": {},
   "outputs": [
    {
     "data": {
      "text/plain": [
       "<sqlite3.Cursor at 0x20e1e5a89c0>"
      ]
     },
     "execution_count": 12,
     "metadata": {},
     "output_type": "execute_result"
    }
   ],
   "source": [
    "# Create the table\n",
    "cur.execute('CREATE TABLE Counts (org TEXT, count INTEGER)')"
   ]
  },
  {
   "cell_type": "code",
   "execution_count": 13,
   "id": "6f922850",
   "metadata": {},
   "outputs": [
    {
     "name": "stdout",
     "output_type": "stream",
     "text": [
      "Enter filename: mbox.txt\n"
     ]
    }
   ],
   "source": [
    "# Read the mbox.txt file and update the database\n",
    "filename = input(\"Enter filename: \")\n",
    "try:\n",
    "    with open(filename, 'r', encoding='utf-8') as file:\n",
    "        for line in file:\n",
    "            if line.startswith('From: '):\n",
    "                email = line.split()[1]\n",
    "                domain = re.findall('@([^ ]+)', email)\n",
    "                if domain:\n",
    "                    domain = domain[0]\n",
    "                    cur.execute('SELECT count FROM Counts WHERE org = ?', (domain,))\n",
    "                    row = cur.fetchone()\n",
    "                    if row is None:\n",
    "                        cur.execute('INSERT INTO Counts (org, count) VALUES (?, 1)', (domain,))\n",
    "                    else:\n",
    "                        cur.execute('UPDATE Counts SET count = count + 1 WHERE org = ?', (domain,))\n",
    "        conn.commit()\n",
    "except Exception as e:\n",
    "    print(f\"An error occurred: {e}\")"
   ]
  },
  {
   "cell_type": "code",
   "execution_count": 14,
   "id": "9bdfa77d",
   "metadata": {},
   "outputs": [
    {
     "name": "stdout",
     "output_type": "stream",
     "text": [
      "('iupui.edu', 8)\n",
      "('umich.edu', 7)\n",
      "('uct.ac.za', 6)\n",
      "('media.berkeley.edu', 4)\n",
      "('caret.cam.ac.uk', 1)\n",
      "('gmail.com', 1)\n"
     ]
    }
   ],
   "source": [
    "# Print the results\n",
    "cur.execute('SELECT * FROM Counts ORDER BY count DESC')\n",
    "for row in cur.fetchall():\n",
    "    print(row)"
   ]
  },
  {
   "cell_type": "code",
   "execution_count": 15,
   "id": "0232536f",
   "metadata": {},
   "outputs": [],
   "source": [
    "# Close the database connection\n",
    "cur.close()"
   ]
  },
  {
   "cell_type": "code",
   "execution_count": null,
   "id": "f222c160",
   "metadata": {},
   "outputs": [],
   "source": []
  }
 ],
 "metadata": {
  "kernelspec": {
   "display_name": "Python 3 (ipykernel)",
   "language": "python",
   "name": "python3"
  },
  "language_info": {
   "codemirror_mode": {
    "name": "ipython",
    "version": 3
   },
   "file_extension": ".py",
   "mimetype": "text/x-python",
   "name": "python",
   "nbconvert_exporter": "python",
   "pygments_lexer": "ipython3",
   "version": "3.11.4"
  }
 },
 "nbformat": 4,
 "nbformat_minor": 5
}
