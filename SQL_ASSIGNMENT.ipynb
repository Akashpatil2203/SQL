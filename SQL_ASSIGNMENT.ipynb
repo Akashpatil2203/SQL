{
 "cells": [
  {
   "cell_type": "code",
   "execution_count": 1,
   "id": "f4ae850d",
   "metadata": {},
   "outputs": [],
   "source": [
    "import os"
   ]
  },
  {
   "cell_type": "code",
   "execution_count": 2,
   "id": "5d9b4c32",
   "metadata": {},
   "outputs": [],
   "source": [
    "import sqlite3"
   ]
  },
  {
   "cell_type": "code",
   "execution_count": 3,
   "id": "9a90887a",
   "metadata": {},
   "outputs": [
    {
     "data": {
      "text/plain": [
       "'C:\\\\Users\\\\Admin'"
      ]
     },
     "execution_count": 3,
     "metadata": {},
     "output_type": "execute_result"
    }
   ],
   "source": [
    "os.getcwd()"
   ]
  },
  {
   "cell_type": "code",
   "execution_count": 6,
   "id": "da613e9b",
   "metadata": {},
   "outputs": [],
   "source": [
    "#Create and connect Database"
   ]
  },
  {
   "cell_type": "code",
   "execution_count": 7,
   "id": "95bec2bf",
   "metadata": {},
   "outputs": [],
   "source": [
    "connection=sqlite3.connect('AkashP.db')"
   ]
  },
  {
   "cell_type": "code",
   "execution_count": 8,
   "id": "c1319909",
   "metadata": {},
   "outputs": [],
   "source": [
    "crsr=connection.cursor()"
   ]
  },
  {
   "cell_type": "code",
   "execution_count": 9,
   "id": "6e33f4bf",
   "metadata": {},
   "outputs": [],
   "source": [
    "#Create Table"
   ]
  },
  {
   "cell_type": "code",
   "execution_count": 14,
   "id": "01ae1f40",
   "metadata": {},
   "outputs": [
    {
     "data": {
      "text/plain": [
       "<sqlite3.Cursor at 0x2700900cac0>"
      ]
     },
     "execution_count": 14,
     "metadata": {},
     "output_type": "execute_result"
    }
   ],
   "source": [
    "sql_Table=\"\"\"CREATE TABLE IF NOT EXISTS Ages (\n",
    "        name VARCHAR(128),\n",
    "        age INTEGER\n",
    "    );\"\"\"\n",
    "crsr.execute(sql_Table)"
   ]
  },
  {
   "cell_type": "code",
   "execution_count": 15,
   "id": "1d00a5ef",
   "metadata": {},
   "outputs": [],
   "source": [
    "#Delete From Ages"
   ]
  },
  {
   "cell_type": "code",
   "execution_count": 29,
   "id": "89a473b1",
   "metadata": {},
   "outputs": [
    {
     "data": {
      "text/plain": [
       "<sqlite3.Cursor at 0x2700900cac0>"
      ]
     },
     "execution_count": 29,
     "metadata": {},
     "output_type": "execute_result"
    }
   ],
   "source": [
    "crsr.execute('DELETE FROM Ages')"
   ]
  },
  {
   "cell_type": "code",
   "execution_count": 17,
   "id": "2c49d0a5",
   "metadata": {},
   "outputs": [],
   "source": [
    "#Fetch_Data From table"
   ]
  },
  {
   "cell_type": "code",
   "execution_count": 18,
   "id": "f969cfa7",
   "metadata": {},
   "outputs": [],
   "source": [
    "crsr.execute(\"SELECT * FROM Ages\")\n",
    "data=crsr.fetchall()\n",
    "for j in data:\n",
    "  print(i)"
   ]
  },
  {
   "cell_type": "code",
   "execution_count": 19,
   "id": "6cf4ab29",
   "metadata": {},
   "outputs": [],
   "source": [
    "#insert_data in table"
   ]
  },
  {
   "cell_type": "code",
   "execution_count": 30,
   "id": "96c918af",
   "metadata": {},
   "outputs": [],
   "source": [
    "sql_command=\"\"\"INSERT INTO Ages VALUES ('Akash', 26);\"\"\"\n",
    "crsr.execute(sql_command)\n",
    "sql_command=\"\"\"INSERT INTO Ages VALUES ('Rohit', 33);\"\"\"\n",
    "crsr.execute(sql_command)\n",
    "sql_command=\"\"\"INSERT INTO Ages VALUES ('Anuj', 31);\"\"\"\n",
    "crsr.execute(sql_command)\n",
    "sql_command=\"\"\"INSERT INTO Ages VALUES ('Sunny', 29);\"\"\"\n",
    "crsr.execute(sql_command)\n",
    "connection.commit()"
   ]
  },
  {
   "cell_type": "code",
   "execution_count": 21,
   "id": "8c09e831",
   "metadata": {},
   "outputs": [],
   "source": [
    "#Fetch_Data in Table"
   ]
  },
  {
   "cell_type": "code",
   "execution_count": 31,
   "id": "69bf0829",
   "metadata": {},
   "outputs": [
    {
     "name": "stdout",
     "output_type": "stream",
     "text": [
      "('Akash', 26)\n",
      "('Rohit', 33)\n",
      "('Anuj', 31)\n",
      "('Sunny', 29)\n"
     ]
    }
   ],
   "source": [
    "crsr.execute(\"SELECT * FROM Ages\")\n",
    "data=crsr.fetchall()\n",
    "for i in data:\n",
    "  print(i)\n",
    "     "
   ]
  },
  {
   "cell_type": "code",
   "execution_count": 33,
   "id": "fe0a987a",
   "metadata": {},
   "outputs": [],
   "source": [
    "#SQL_COMMAND"
   ]
  },
  {
   "cell_type": "code",
   "execution_count": 34,
   "id": "becb29bc",
   "metadata": {},
   "outputs": [
    {
     "name": "stdout",
     "output_type": "stream",
     "text": [
      "('Akash', 26)\n",
      "('Rohit', 33)\n",
      "('Anuj', 31)\n",
      "('Sunny', 29)\n"
     ]
    }
   ],
   "source": [
    "crsr.execute(\"SELECT hex(name || age) AS X FROM Ages ORDER BY X\")\n",
    "result_set=crsr.fetchall()\n",
    "for k in data:\n",
    "  print(k)"
   ]
  },
  {
   "cell_type": "code",
   "execution_count": 36,
   "id": "da2fb44b",
   "metadata": {},
   "outputs": [],
   "source": [
    "#FIND FIRST ROW AND RESULTING RECORD SET"
   ]
  },
  {
   "cell_type": "code",
   "execution_count": 37,
   "id": "36810b3f",
   "metadata": {},
   "outputs": [
    {
     "name": "stdout",
     "output_type": "stream",
     "text": [
      "The first row in the resulting record set: 416B6173683236\n"
     ]
    }
   ],
   "source": [
    "if result_set:\n",
    "    first_row = result_set[0][0]\n",
    "    print(\"The first row in the resulting record set:\", first_row)\n",
    "connection.close()"
   ]
  },
  {
   "cell_type": "code",
   "execution_count": null,
   "id": "d7269353",
   "metadata": {},
   "outputs": [],
   "source": []
  }
 ],
 "metadata": {
  "kernelspec": {
   "display_name": "Python 3 (ipykernel)",
   "language": "python",
   "name": "python3"
  },
  "language_info": {
   "codemirror_mode": {
    "name": "ipython",
    "version": 3
   },
   "file_extension": ".py",
   "mimetype": "text/x-python",
   "name": "python",
   "nbconvert_exporter": "python",
   "pygments_lexer": "ipython3",
   "version": "3.11.4"
  }
 },
 "nbformat": 4,
 "nbformat_minor": 5
}
